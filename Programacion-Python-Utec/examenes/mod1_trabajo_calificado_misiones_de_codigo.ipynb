{
  "nbformat": 4,
  "nbformat_minor": 0,
  "metadata": {
    "colab": {
      "provenance": [],
      "include_colab_link": true
    },
    "kernelspec": {
      "name": "python3",
      "display_name": "Python 3"
    },
    "language_info": {
      "name": "python"
    }
  },
  "cells": [
    {
      "cell_type": "markdown",
      "metadata": {
        "id": "view-in-github",
        "colab_type": "text"
      },
      "source": [
        "<a href=\"https://colab.research.google.com/github/Articjm/Programa-python/blob/main/Programacion-Python-Utec/examenes/mod1_trabajo_calificado_misiones_de_codigo.ipynb\" target=\"_parent\"><img src=\"https://colab.research.google.com/assets/colab-badge.svg\" alt=\"Open In Colab\"/></a>"
      ]
    },
    {
      "cell_type": "markdown",
      "source": [
        "<img src=\"https://posgrado.utec.edu.pe/sites/default/files/2023-08/Testimonial-home-2.jpg\" alt=\"HTML5 Icon\" width=\"900\" height=\"250\" >\n"
      ],
      "metadata": {
        "id": "dYz-CyepUcRS"
      }
    },
    {
      "cell_type": "markdown",
      "source": [
        "# **Trabajo Calificado: Misiones de Código**"
      ],
      "metadata": {
        "id": "tYd6BiWgUfLo"
      }
    },
    {
      "cell_type": "markdown",
      "source": [
        "**Contexto:**\n",
        "\n",
        "Eres desarrollador de un Simulador de Aventuras llamado Pythonia, un entorno virtual de entrenamiento diseñado para mejorar tus habilidades de programación. En este simulador, enfrentarás una serie de desafíos basados en situaciones de videojuegos y escenarios de aventura, donde deberás aplicar estructuras lógicas, condicionales, bucles y funciones para resolver problemas.\n",
        "\n"
      ],
      "metadata": {
        "id": "GtjjVTFRU6W1"
      }
    },
    {
      "cell_type": "markdown",
      "source": [
        "Cada ejercicio representa un reto independiente que simula eventos comunes en el desarrollo de videojuegos, sistemas de simulación y lógica de juegos interactivos."
      ],
      "metadata": {
        "id": "Ggayz2SXVXjt"
      }
    },
    {
      "cell_type": "markdown",
      "source": [
        "**Recomendaciones:**\n",
        "\n",
        "Utilizar buenas prácticas: comentarios, entradas y salidas limpias.\n",
        "\n",
        "Uso de funciones donde sea necesario."
      ],
      "metadata": {
        "id": "eAL1_dscUjd_"
      }
    },
    {
      "cell_type": "markdown",
      "source": [
        "**Ejercicio 1: Elige tu personaje (Variables y Entrada/Salida)**\n",
        "\n",
        "Crea un programa que permita al jugador elegir su personaje entre Mago, Guerrero o Arquero. Según la elección, muestra un mensaje personalizado con las estadísticas iniciales (vida, poder, defensa)."
      ],
      "metadata": {
        "id": "YpxJc_PoVc4c"
      }
    },
    {
      "cell_type": "code",
      "source": [
        "## INICIO DE CÓDIGO\n",
        "\n",
        "# Menú principal\n",
        "print(\"Elige tu personaje:\")\n",
        "print(\"1. Mago\")\n",
        "print(\"2. Guerrero\")\n",
        "print(\"3. Arquero\")\n",
        "\n",
        "player = input(\"Ingresa el nombre del personaje: \").lower()\n",
        "\n",
        "if player == \"mago\":\n",
        "        vida = 70\n",
        "        poder = 90\n",
        "        defensa = 40\n",
        "        print(\"\\nHas elegido al Mago 🧙‍♂️\")\n",
        "elif player == \"guerrero\":\n",
        "        vida = 100\n",
        "        poder = 60\n",
        "        defensa = 80\n",
        "        print(\"\\nHas elegido al Guerrero 🛡️\")\n",
        "elif player == \"arquero\":\n",
        "        vida = 80\n",
        "        poder = 75\n",
        "        defensa = 60\n",
        "        print(\"\\nHas elegido al Arquero 🏹\")\n",
        "else:\n",
        "        print(\"\\nOpción no válida.\")\n",
        "\n",
        "\n",
        "# Corrected indentation for the print statement\n",
        "print(f\"Estadísticas iniciales:\\n- Vida: {vida}\\n- Poder: {poder}\\n- Defensa: {defensa}\")\n",
        "\n",
        "## FIN DE CÓDIGO"
      ],
      "metadata": {
        "id": "GZrzl-7wVfkW",
        "colab": {
          "base_uri": "https://localhost:8080/"
        },
        "outputId": "4ea6cd0e-bdfa-4d97-cf05-644da50b17d8"
      },
      "execution_count": 6,
      "outputs": [
        {
          "output_type": "stream",
          "name": "stdout",
          "text": [
            "Elige tu personaje:\n",
            "1. Mago\n",
            "2. Guerrero\n",
            "3. Arquero\n",
            "Ingresa el nombre del personaje: GUERRERO\n",
            "\n",
            "Has elegido al Guerrero 🛡️\n",
            "Estadísticas iniciales:\n",
            "- Vida: 100\n",
            "- Poder: 60\n",
            "- Defensa: 80\n"
          ]
        }
      ]
    },
    {
      "cell_type": "markdown",
      "source": [
        "**Ejercicio 2: La prueba del sabio (Condicionales)**\n",
        "\n",
        "El sabio te hace una pregunta: si traes menos de 50 monedas de oro, te expulsará; si llevas entre 50 y 100, te permitirá pasar; si llevas más de 100, te dará una poción.\n",
        "Crea el programa que lea las monedas y muestre el resultado."
      ],
      "metadata": {
        "id": "kvoGwX-QVgPr"
      }
    },
    {
      "cell_type": "code",
      "execution_count": 12,
      "metadata": {
        "id": "3tg6KSK-UbUw",
        "colab": {
          "base_uri": "https://localhost:8080/"
        },
        "outputId": "1eb5fd63-f79b-4860-b1eb-c4b5e295f54e"
      },
      "outputs": [
        {
          "output_type": "stream",
          "name": "stdout",
          "text": [
            "¿Cuántas monedas de oro tienes? 7\n",
            "guerrero \n",
            " Tu no pasaras.\n"
          ]
        }
      ],
      "source": [
        "## INICIO DE CÓDIGO\n",
        "\n",
        "coints = int(input(\"¿Cuántas monedas de oro 🪙 tienes? \"))\n",
        "\n",
        "if coints > 100:\n",
        "        print(f\"{player} \\nGanaste la posion Phoenix life  \\nPuedes pasar\")\n",
        "elif coints > 49:\n",
        "        print(f\"{player} \\nPuedes pasar \")\n",
        "else:\n",
        "        print(f\"{player} \\nTu no pasaras.\")\n",
        "\n",
        "## FIN DE CÓDIGO"
      ]
    },
    {
      "cell_type": "markdown",
      "source": [
        "**Ejercicio 3: El puente infinito (Bucles While)**\n",
        "\n",
        "Diseña un programa que simule el cruce de un puente que cambia su estructura aleatoriamente. El jugador debe adivinar si el siguiente paso será seguro ('s') o peligroso ('p').\n",
        "El juego termina si el jugador elige 'salir' o si falla 3 veces."
      ],
      "metadata": {
        "id": "g7B02fWhVj4M"
      }
    },
    {
      "cell_type": "code",
      "source": [
        "## INICIO DE CÓDIGO\n",
        "\n",
        "import random\n",
        "\n",
        "print(f\"{player} 🌉 ¡Bienvenido al Puente del destino!\")\n",
        "print(\"Adivina si el siguiente paso es seguro ('s') o peligroso ('p').\")\n",
        "print(\"Escribe 'salir' si quieres regresar a casa y dejar esta aventura.\")\n",
        "print(\"Recuerda, solo tienes 3 oportunidades para pasar.\\n\")\n",
        "\n",
        "fail = 0\n",
        "step = 0\n",
        "\n",
        "while fail < 3:\n",
        "    election = input(\"¿Será seguro ('s') o peligroso ('p')? \").lower()\n",
        "\n",
        "    if election == 'salir':\n",
        "        print(f\"{player}\\nHas decidido abandonar el puente. ¡Hasta la próxima!\")\n",
        "        break\n",
        "\n",
        "    if election not in ['s', 'p']:\n",
        "        print(f\"{player}❌ Opción inválida. Escribe 's', 'p' o 'salir'.\")\n",
        "        continue\n",
        "\n",
        "    random_step = random.choice(['s', 'p'])\n",
        "\n",
        "    if election == random_step:\n",
        "        step += 1\n",
        "        print(f\"{player} ✅ ¡Correcto! Has logrador dar {step} paso(s) con éxito.\\n\")\n",
        "    else:\n",
        "        fail += 1\n",
        "        print(f\"{player} ❌ ¡Decide sabiamente! fallaste: {fail}/3\\n\")\n",
        "\n",
        "if fail == 3:\n",
        "    print(f\"{player}💀 Has fallado 3 veces. El puente no soportó tu peso. Fin del juego.\")\n",
        "elif fail < 3:\n",
        "    print(f\" {player} 👣 Has cruzado {step} paso(s) antes de lograrlo.\")\n",
        "\n",
        "## FIN DE CÓDIGO"
      ],
      "metadata": {
        "id": "9DRMWhDBVn71",
        "colab": {
          "base_uri": "https://localhost:8080/"
        },
        "outputId": "39edecc1-d6d1-423a-e67a-20d5c907fe57"
      },
      "execution_count": 15,
      "outputs": [
        {
          "output_type": "stream",
          "name": "stdout",
          "text": [
            "guerrero 🌉 ¡Bienvenido al Puente del destino!\n",
            "Adivina si el siguiente paso es seguro ('s') o peligroso ('p').\n",
            "Escribe 'salir' si quieres regresar a casa y dejar esta aventura.\n",
            "Recuerda, solo tienes 3 oportunidades para pasar.\n",
            "\n",
            "¿Será seguro ('s') o peligroso ('p')? s\n",
            "guerrero ❌ ¡Decide sabiamente! fallaste: 1/3\n",
            "\n",
            "¿Será seguro ('s') o peligroso ('p')? p\n",
            "guerrero ❌ ¡Decide sabiamente! fallaste: 2/3\n",
            "\n",
            "¿Será seguro ('s') o peligroso ('p')? s\n",
            "guerrero ✅ ¡Correcto! Has logrador dar 1 paso(s) con éxito.\n",
            "\n",
            "¿Será seguro ('s') o peligroso ('p')? s\n",
            "guerrero ❌ ¡Decide sabiamente! fallaste: 3/3\n",
            "\n",
            "guerrero💀 Has fallado 3 veces. El puente no soportó tu peso. Fin del juego.\n"
          ]
        }
      ]
    },
    {
      "cell_type": "markdown",
      "source": [
        "**Ejercicio 4: El laberinto secreto (Bucle For y Range)**\n",
        "\n",
        "Crea un programa que muestre una cuenta regresiva desde 10 hasta 1 al estilo nivel de escape del laberinto. Cada número debe ir acompañado de un mensaje tipo \"Quedan X segundos para escapar\"."
      ],
      "metadata": {
        "id": "66qKXQwTVoZG"
      }
    },
    {
      "cell_type": "code",
      "source": [
        "## INICIO DE CÓDIGO\n",
        "\n",
        "import time  # Para hacer pausas entre cada segundo\n",
        "\n",
        "print(\"🚨 ¡Comienza la cuenta regresiva para escapar del laberinto! 🚨\\n\")\n",
        "\n",
        "for second in range(10, 0, -1):  # Cuenta de 10 a 1, de forma descendente\n",
        "    print(f\"⏳ Quedan {second} segundos para escapar...\")\n",
        "    time.sleep(1)  # Espera 1 segundo entre cada número\n",
        "\n",
        "print(\"\\n💥 ¡Se acabó el tiempo! ¡El laberinto se cierra!\")\n",
        "\n",
        "## FIN DE CÓDIGO"
      ],
      "metadata": {
        "id": "i1S9WPmhVsEj",
        "colab": {
          "base_uri": "https://localhost:8080/"
        },
        "outputId": "13c3f160-f2de-4fcb-b0e0-53fc7c4b0d90"
      },
      "execution_count": 17,
      "outputs": [
        {
          "output_type": "stream",
          "name": "stdout",
          "text": [
            "🚨 ¡Comienza la cuenta regresiva para escapar del laberinto! 🚨\n",
            "\n",
            "⏳ Quedan 10 segundos para escapar...\n",
            "⏳ Quedan 9 segundos para escapar...\n",
            "⏳ Quedan 8 segundos para escapar...\n",
            "⏳ Quedan 7 segundos para escapar...\n",
            "⏳ Quedan 6 segundos para escapar...\n",
            "⏳ Quedan 5 segundos para escapar...\n",
            "⏳ Quedan 4 segundos para escapar...\n",
            "⏳ Quedan 3 segundos para escapar...\n",
            "⏳ Quedan 2 segundos para escapar...\n",
            "⏳ Quedan 1 segundos para escapar...\n",
            "\n",
            "💥 ¡Se acabó el tiempo! ¡El laberinto se cierra!\n"
          ]
        }
      ]
    },
    {
      "cell_type": "markdown",
      "source": [
        "**Ejercicio 5: Cofres encantados (Break y Continue)**\n",
        "\n",
        "Simula 10 cofres cerrados, pero uno de ellos es una trampa explosiva (elige aleatoriamente una posición).\n",
        "El jugador abre cofres uno por uno:\n",
        "\n",
        "* Si encuentra la trampa, termina el juego (break).\n",
        "\n",
        "* Si encuentra cofres vacíos, continúa (continue).\n",
        "\n",
        "* Si abre todos sin explotar, gana."
      ],
      "metadata": {
        "id": "5dL6C-x1VsYf"
      }
    },
    {
      "cell_type": "code",
      "source": [
        "## INICIO DE CÓDIGO\n",
        "\n",
        "## FIN DE CÓDIGO"
      ],
      "metadata": {
        "id": "d0hcbl0_V2BI"
      },
      "execution_count": null,
      "outputs": []
    },
    {
      "cell_type": "markdown",
      "source": [
        "**Ejercicio 6: Pociones mágicas (Funciones básicas)**\n",
        "\n",
        "Crea una función usar_pocion(tipo) que permita al jugador elegir entre 'vida', 'fuerza' o 'velocidad', y retorne el efecto de la poción.\n",
        "Luego, pide al usuario que elija una poción y muestra el resultado llamando a la función."
      ],
      "metadata": {
        "id": "94yOz-rKV2gp"
      }
    },
    {
      "cell_type": "code",
      "source": [
        "## INICIO DE CÓDIGO\n",
        "\n",
        "## FIN DE CÓDIGO"
      ],
      "metadata": {
        "id": "NQKm0w5iV4Zz"
      },
      "execution_count": null,
      "outputs": []
    },
    {
      "cell_type": "markdown",
      "source": [
        "**Ejercicio 7: Calculadora de daño crítico (Funciones con parámetros)**\n",
        "\n",
        "Crea una función calcular_danio(base, critico) que reciba el daño base y un porcentaje de crítico, devolviendo el daño total.\n",
        "El usuario ingresará el daño base y el porcentaje crítico."
      ],
      "metadata": {
        "id": "Qdnbnm4nV44h"
      }
    },
    {
      "cell_type": "code",
      "source": [
        "## INICIO DE CÓDIGO\n",
        "\n",
        "## FIN DE CÓDIGO"
      ],
      "metadata": {
        "id": "leaLQJWrV8Tx"
      },
      "execution_count": null,
      "outputs": []
    },
    {
      "cell_type": "markdown",
      "source": [
        "**Ejercicio 8: El desafío del dragón (Condicionales + funciones + bucles)**\n",
        "\n",
        "Diseña una función enfrentar_dragon(vida, fuerza) que simule el combate:\n",
        "\n",
        "* El jugador ataca al dragón y el dragón contraataca restando vida.\n",
        "\n",
        "* Si la vida llega a 0, el jugador pierde.\n",
        "\n",
        "* Si el jugador realiza 3 ataques consecutivos sin morir, gana.\n",
        "Usa un bucle while interno para el combate."
      ],
      "metadata": {
        "id": "d4j1ckE2V9ag"
      }
    },
    {
      "cell_type": "code",
      "source": [
        "## INICIO DE CÓDIGO\n",
        "\n",
        "## FIN DE CÓDIGO"
      ],
      "metadata": {
        "id": "_CGyWwuaWByi"
      },
      "execution_count": null,
      "outputs": []
    },
    {
      "cell_type": "markdown",
      "source": [
        "**Ejercicio 9: El camino del héroe (Recursividad sencilla)**\n",
        "\n",
        "Crea una función recursiva que simule el camino de un héroe cruzando N obstáculos, mostrando mensajes como:\n",
        "\n",
        "\"Obstáculo 3: saltando...\"\n",
        "\n",
        "Termina cuando N llegue a 0."
      ],
      "metadata": {
        "id": "8X5Y08fQWCFU"
      }
    },
    {
      "cell_type": "code",
      "source": [
        "## INICIO DE CÓDIGO\n",
        "\n",
        "## FIN DE CÓDIGO"
      ],
      "metadata": {
        "id": "vVDjZHSVWJdQ"
      },
      "execution_count": null,
      "outputs": []
    },
    {
      "cell_type": "markdown",
      "source": [
        "**Ejercicio 10: Torre de los hechizos (Reto Integrador Final)**\n",
        "\n",
        "Crea un programa completo que combine:\n",
        "\n",
        "* Elección de personaje.\n",
        "\n",
        "* Simulación de un combate contra un enemigo con vida y defensa.\n",
        "\n",
        "* Uso de funciones para calcular el daño.\n",
        "\n",
        "* Bucles para turnos de combate.\n",
        "\n",
        "* Uso de una función recursiva que simule las rondas como niveles (nivel 1, 2, 3 hasta ganar).\n",
        "\n"
      ],
      "metadata": {
        "id": "Behbpl_8WJzR"
      }
    },
    {
      "cell_type": "code",
      "source": [
        "## INICIO DE CÓDIGO\n",
        "\n",
        "## FIN DE CÓDIGO"
      ],
      "metadata": {
        "id": "smtLq1SDWTJd"
      },
      "execution_count": null,
      "outputs": []
    },
    {
      "cell_type": "markdown",
      "source": [
        "---\n",
        "\n",
        "# Gracias por completar este laboratorio!\n",
        "\n",
        "---\n"
      ],
      "metadata": {
        "id": "EONqoa25Wlx3"
      }
    }
  ]
}