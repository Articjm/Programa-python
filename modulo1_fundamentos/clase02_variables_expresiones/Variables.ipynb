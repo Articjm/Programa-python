{
  "nbformat": 4,
  "nbformat_minor": 0,
  "metadata": {
    "colab": {
      "provenance": [],
      "authorship_tag": "ABX9TyO31gAauZgHAnrY40hj9XwY",
      "include_colab_link": true
    },
    "kernelspec": {
      "name": "python3",
      "display_name": "Python 3"
    },
    "language_info": {
      "name": "python"
    }
  },
  "cells": [
    {
      "cell_type": "markdown",
      "metadata": {
        "id": "view-in-github",
        "colab_type": "text"
      },
      "source": [
        "<a href=\"https://colab.research.google.com/github/Articjm/Programa-python/blob/main/modulo1_fundamentos/clase02_variables_expresiones/Variables.ipynb\" target=\"_parent\"><img src=\"https://colab.research.google.com/assets/colab-badge.svg\" alt=\"Open In Colab\"/></a>"
      ]
    },
    {
      "cell_type": "code",
      "execution_count": 1,
      "metadata": {
        "id": "aidgbfMC_WK6",
        "colab": {
          "base_uri": "https://localhost:8080/"
        },
        "outputId": "84ecc9c7-b982-4a71-af6b-e50aac4cf43e"
      },
      "outputs": [
        {
          "output_type": "stream",
          "name": "stdout",
          "text": [
            "5.0\n"
          ]
        }
      ],
      "source": [
        "a=3\n",
        "b=4\n",
        "c=(a**2+b**2)**0.5\n",
        "print(c)"
      ]
    }
  ]
}